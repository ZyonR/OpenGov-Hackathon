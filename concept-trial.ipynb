{
 "cells": [
  {
   "cell_type": "code",
   "execution_count": 1,
   "id": "e532f0a2-5ccd-4297-9f75-9f2227f82528",
   "metadata": {},
   "outputs": [
    {
     "name": "stderr",
     "output_type": "stream",
     "text": [
      "[nltk_data] Downloading package punkt to\n",
      "[nltk_data]     C:\\Users\\Asus\\AppData\\Roaming\\nltk_data...\n",
      "[nltk_data]   Package punkt is already up-to-date!\n",
      "[nltk_data] Downloading package wordnet to\n",
      "[nltk_data]     C:\\Users\\Asus\\AppData\\Roaming\\nltk_data...\n",
      "[nltk_data]   Package wordnet is already up-to-date!\n",
      "[nltk_data] Downloading package stopwords to\n",
      "[nltk_data]     C:\\Users\\Asus\\AppData\\Roaming\\nltk_data...\n",
      "[nltk_data]   Package stopwords is already up-to-date!\n"
     ]
    },
    {
     "data": {
      "text/plain": [
       "True"
      ]
     },
     "execution_count": 1,
     "metadata": {},
     "output_type": "execute_result"
    }
   ],
   "source": [
    "import pandas as pd\n",
    "import numpy as np\n",
    "import nltk\n",
    "from nltk.tokenize import word_tokenize\n",
    "from nltk.stem import PorterStemmer, WordNetLemmatizer\n",
    "from nltk.corpus import stopwords\n",
    "import regex as re\n",
    "from contractions import fix\n",
    "from sentence_transformers import SentenceTransformer\n",
    "\n",
    "nltk.download('punkt')\n",
    "nltk.download('wordnet')\n",
    "nltk.download('stopwords')"
   ]
  },
  {
   "cell_type": "code",
   "execution_count": 2,
   "id": "c1e3479e-a0b4-4128-89dc-4ecaf19e89ab",
   "metadata": {},
   "outputs": [
    {
     "name": "stdout",
     "output_type": "stream",
     "text": [
      "(21417, 4)\n",
      "<class 'pandas.core.frame.DataFrame'>\n",
      "RangeIndex: 21417 entries, 0 to 21416\n",
      "Data columns (total 4 columns):\n",
      " #   Column   Non-Null Count  Dtype \n",
      "---  ------   --------------  ----- \n",
      " 0   title    21417 non-null  object\n",
      " 1   text     21417 non-null  object\n",
      " 2   subject  21417 non-null  object\n",
      " 3   date     21417 non-null  object\n",
      "dtypes: object(4)\n",
      "memory usage: 669.4+ KB\n"
     ]
    },
    {
     "data": {
      "text/html": [
       "<div>\n",
       "<style scoped>\n",
       "    .dataframe tbody tr th:only-of-type {\n",
       "        vertical-align: middle;\n",
       "    }\n",
       "\n",
       "    .dataframe tbody tr th {\n",
       "        vertical-align: top;\n",
       "    }\n",
       "\n",
       "    .dataframe thead th {\n",
       "        text-align: right;\n",
       "    }\n",
       "</style>\n",
       "<table border=\"1\" class=\"dataframe\">\n",
       "  <thead>\n",
       "    <tr style=\"text-align: right;\">\n",
       "      <th></th>\n",
       "      <th>title</th>\n",
       "      <th>text</th>\n",
       "      <th>subject</th>\n",
       "      <th>date</th>\n",
       "    </tr>\n",
       "  </thead>\n",
       "  <tbody>\n",
       "    <tr>\n",
       "      <th>0</th>\n",
       "      <td>As U.S. budget fight looms, Republicans flip t...</td>\n",
       "      <td>WASHINGTON (Reuters) - The head of a conservat...</td>\n",
       "      <td>politicsNews</td>\n",
       "      <td>December 31, 2017</td>\n",
       "    </tr>\n",
       "    <tr>\n",
       "      <th>1</th>\n",
       "      <td>U.S. military to accept transgender recruits o...</td>\n",
       "      <td>WASHINGTON (Reuters) - Transgender people will...</td>\n",
       "      <td>politicsNews</td>\n",
       "      <td>December 29, 2017</td>\n",
       "    </tr>\n",
       "    <tr>\n",
       "      <th>2</th>\n",
       "      <td>Senior U.S. Republican senator: 'Let Mr. Muell...</td>\n",
       "      <td>WASHINGTON (Reuters) - The special counsel inv...</td>\n",
       "      <td>politicsNews</td>\n",
       "      <td>December 31, 2017</td>\n",
       "    </tr>\n",
       "    <tr>\n",
       "      <th>3</th>\n",
       "      <td>FBI Russia probe helped by Australian diplomat...</td>\n",
       "      <td>WASHINGTON (Reuters) - Trump campaign adviser ...</td>\n",
       "      <td>politicsNews</td>\n",
       "      <td>December 30, 2017</td>\n",
       "    </tr>\n",
       "    <tr>\n",
       "      <th>4</th>\n",
       "      <td>Trump wants Postal Service to charge 'much mor...</td>\n",
       "      <td>SEATTLE/WASHINGTON (Reuters) - President Donal...</td>\n",
       "      <td>politicsNews</td>\n",
       "      <td>December 29, 2017</td>\n",
       "    </tr>\n",
       "  </tbody>\n",
       "</table>\n",
       "</div>"
      ],
      "text/plain": [
       "                                               title  \\\n",
       "0  As U.S. budget fight looms, Republicans flip t...   \n",
       "1  U.S. military to accept transgender recruits o...   \n",
       "2  Senior U.S. Republican senator: 'Let Mr. Muell...   \n",
       "3  FBI Russia probe helped by Australian diplomat...   \n",
       "4  Trump wants Postal Service to charge 'much mor...   \n",
       "\n",
       "                                                text       subject  \\\n",
       "0  WASHINGTON (Reuters) - The head of a conservat...  politicsNews   \n",
       "1  WASHINGTON (Reuters) - Transgender people will...  politicsNews   \n",
       "2  WASHINGTON (Reuters) - The special counsel inv...  politicsNews   \n",
       "3  WASHINGTON (Reuters) - Trump campaign adviser ...  politicsNews   \n",
       "4  SEATTLE/WASHINGTON (Reuters) - President Donal...  politicsNews   \n",
       "\n",
       "                 date  \n",
       "0  December 31, 2017   \n",
       "1  December 29, 2017   \n",
       "2  December 31, 2017   \n",
       "3  December 30, 2017   \n",
       "4  December 29, 2017   "
      ]
     },
     "execution_count": 2,
     "metadata": {},
     "output_type": "execute_result"
    }
   ],
   "source": [
    "true_df = pd.read_csv(\"test_data/True.csv\")\n",
    "print(true_df.shape)\n",
    "true_df.info()\n",
    "true_df.head()"
   ]
  },
  {
   "cell_type": "code",
   "execution_count": 3,
   "id": "80280f5b-ab33-4f2e-844b-dbf5828987a8",
   "metadata": {},
   "outputs": [],
   "source": [
    "true_df.drop(columns=[\"title\",\"subject\",\"date\"],inplace=True)"
   ]
  },
  {
   "cell_type": "code",
   "execution_count": 4,
   "id": "5d66478e-f39b-4f10-a108-c6fcf5098924",
   "metadata": {},
   "outputs": [],
   "source": [
    "true_df['text'] = true_df['text'].apply(lambda x: ' '.join(x.split(' - ')[1:]))"
   ]
  },
  {
   "cell_type": "code",
   "execution_count": 5,
   "id": "8232708f-8f73-4b6a-a9ed-c9c9db3f8103",
   "metadata": {},
   "outputs": [],
   "source": [
    "def clean_text(text):\n",
    "    text = text.lower()\n",
    "    text = re.sub(r\"[^a-zA-Z0-9\\s]\", '', text)\n",
    "    text = re.sub(r\"\\s+\", ' ', text).strip()\n",
    "    return text"
   ]
  },
  {
   "cell_type": "code",
   "execution_count": 6,
   "id": "7f9df885-4f2e-4e27-a7b7-aa9d7909d09d",
   "metadata": {},
   "outputs": [
    {
     "data": {
      "text/html": [
       "<div>\n",
       "<style scoped>\n",
       "    .dataframe tbody tr th:only-of-type {\n",
       "        vertical-align: middle;\n",
       "    }\n",
       "\n",
       "    .dataframe tbody tr th {\n",
       "        vertical-align: top;\n",
       "    }\n",
       "\n",
       "    .dataframe thead th {\n",
       "        text-align: right;\n",
       "    }\n",
       "</style>\n",
       "<table border=\"1\" class=\"dataframe\">\n",
       "  <thead>\n",
       "    <tr style=\"text-align: right;\">\n",
       "      <th></th>\n",
       "      <th>text</th>\n",
       "    </tr>\n",
       "  </thead>\n",
       "  <tbody>\n",
       "    <tr>\n",
       "      <th>0</th>\n",
       "      <td>the head of a conservative republican faction ...</td>\n",
       "    </tr>\n",
       "    <tr>\n",
       "      <th>1</th>\n",
       "      <td>transgender people will be allowed for the fir...</td>\n",
       "    </tr>\n",
       "    <tr>\n",
       "      <th>2</th>\n",
       "      <td>the special counsel investigation of links bet...</td>\n",
       "    </tr>\n",
       "    <tr>\n",
       "      <th>3</th>\n",
       "      <td>trump campaign adviser george papadopoulos tol...</td>\n",
       "    </tr>\n",
       "    <tr>\n",
       "      <th>4</th>\n",
       "      <td>president donald trump called on the us postal...</td>\n",
       "    </tr>\n",
       "  </tbody>\n",
       "</table>\n",
       "</div>"
      ],
      "text/plain": [
       "                                                text\n",
       "0  the head of a conservative republican faction ...\n",
       "1  transgender people will be allowed for the fir...\n",
       "2  the special counsel investigation of links bet...\n",
       "3  trump campaign adviser george papadopoulos tol...\n",
       "4  president donald trump called on the us postal..."
      ]
     },
     "execution_count": 6,
     "metadata": {},
     "output_type": "execute_result"
    }
   ],
   "source": [
    "true_df['text']=true_df['text'].apply(clean_text)\n",
    "true_df.head()"
   ]
  },
  {
   "cell_type": "code",
   "execution_count": 7,
   "id": "79b960a7-6ac9-4d09-a5b1-e89cb8fa513f",
   "metadata": {},
   "outputs": [
    {
     "name": "stdout",
     "output_type": "stream",
     "text": [
      "(2142, 1)\n"
     ]
    }
   ],
   "source": [
    "small_true_df = true_df.sample(frac=0.1)\n",
    "print(small_true_df.shape)"
   ]
  },
  {
   "cell_type": "code",
   "execution_count": 8,
   "id": "76426f38-8e80-484f-a8c6-bda1fafa441a",
   "metadata": {},
   "outputs": [],
   "source": [
    "small_true_df[\"text\"] = small_true_df[\"text\"].apply(fix)"
   ]
  },
  {
   "cell_type": "code",
   "execution_count": 9,
   "id": "73588069-6524-439f-84fb-68d006bcb4f0",
   "metadata": {},
   "outputs": [],
   "source": [
    "stop_words = set(stopwords.words('english'))\n",
    "def tokenize_and_remove_stopwords(text):\n",
    "    tokens = word_tokenize(text)\n",
    "    return \" \".join([word for word in tokens if word not in stop_words])\n",
    "\n",
    "small_true_df['text'] = small_true_df['text'].apply(tokenize_and_remove_stopwords)"
   ]
  },
  {
   "cell_type": "code",
   "execution_count": 12,
   "id": "0c029251-3ba3-410a-9f22-33b75b8252bf",
   "metadata": {},
   "outputs": [],
   "source": [
    "model = SentenceTransformer('paraphrase-multilingual-MiniLM-L12-v2')"
   ]
  },
  {
   "cell_type": "code",
   "execution_count": 13,
   "id": "43cb2d39-8771-4742-92c0-bf8f36f58c69",
   "metadata": {},
   "outputs": [
    {
     "data": {
      "application/vnd.jupyter.widget-view+json": {
       "model_id": "c65c096b4a6d4e069be652a37f84b33b",
       "version_major": 2,
       "version_minor": 0
      },
      "text/plain": [
       "Batches:   0%|          | 0/67 [00:00<?, ?it/s]"
      ]
     },
     "metadata": {},
     "output_type": "display_data"
    }
   ],
   "source": [
    "embeddings = model.encode(small_true_df['text'].tolist(), show_progress_bar=True)"
   ]
  },
  {
   "cell_type": "code",
   "execution_count": 14,
   "id": "fa124bbb-5263-4fc2-80f0-08c2c4e3ba25",
   "metadata": {},
   "outputs": [
    {
     "name": "stdout",
     "output_type": "stream",
     "text": [
      "<class 'numpy.ndarray'>\n",
      "(2142, 384)\n"
     ]
    }
   ],
   "source": [
    "print(type(embeddings))\n",
    "print(np.array(embeddings).shape)"
   ]
  },
  {
   "cell_type": "code",
   "execution_count": 15,
   "id": "312592d4-236f-4e13-86f1-c5c4e335f074",
   "metadata": {},
   "outputs": [],
   "source": [
    "from sklearn.neighbors import LocalOutlierFactor"
   ]
  },
  {
   "cell_type": "code",
   "execution_count": 16,
   "id": "972b07a2-5f60-4f19-8e2f-331f75f01646",
   "metadata": {},
   "outputs": [
    {
     "data": {
      "text/html": [
       "<style>#sk-container-id-1 {color: black;background-color: white;}#sk-container-id-1 pre{padding: 0;}#sk-container-id-1 div.sk-toggleable {background-color: white;}#sk-container-id-1 label.sk-toggleable__label {cursor: pointer;display: block;width: 100%;margin-bottom: 0;padding: 0.3em;box-sizing: border-box;text-align: center;}#sk-container-id-1 label.sk-toggleable__label-arrow:before {content: \"▸\";float: left;margin-right: 0.25em;color: #696969;}#sk-container-id-1 label.sk-toggleable__label-arrow:hover:before {color: black;}#sk-container-id-1 div.sk-estimator:hover label.sk-toggleable__label-arrow:before {color: black;}#sk-container-id-1 div.sk-toggleable__content {max-height: 0;max-width: 0;overflow: hidden;text-align: left;background-color: #f0f8ff;}#sk-container-id-1 div.sk-toggleable__content pre {margin: 0.2em;color: black;border-radius: 0.25em;background-color: #f0f8ff;}#sk-container-id-1 input.sk-toggleable__control:checked~div.sk-toggleable__content {max-height: 200px;max-width: 100%;overflow: auto;}#sk-container-id-1 input.sk-toggleable__control:checked~label.sk-toggleable__label-arrow:before {content: \"▾\";}#sk-container-id-1 div.sk-estimator input.sk-toggleable__control:checked~label.sk-toggleable__label {background-color: #d4ebff;}#sk-container-id-1 div.sk-label input.sk-toggleable__control:checked~label.sk-toggleable__label {background-color: #d4ebff;}#sk-container-id-1 input.sk-hidden--visually {border: 0;clip: rect(1px 1px 1px 1px);clip: rect(1px, 1px, 1px, 1px);height: 1px;margin: -1px;overflow: hidden;padding: 0;position: absolute;width: 1px;}#sk-container-id-1 div.sk-estimator {font-family: monospace;background-color: #f0f8ff;border: 1px dotted black;border-radius: 0.25em;box-sizing: border-box;margin-bottom: 0.5em;}#sk-container-id-1 div.sk-estimator:hover {background-color: #d4ebff;}#sk-container-id-1 div.sk-parallel-item::after {content: \"\";width: 100%;border-bottom: 1px solid gray;flex-grow: 1;}#sk-container-id-1 div.sk-label:hover label.sk-toggleable__label {background-color: #d4ebff;}#sk-container-id-1 div.sk-serial::before {content: \"\";position: absolute;border-left: 1px solid gray;box-sizing: border-box;top: 0;bottom: 0;left: 50%;z-index: 0;}#sk-container-id-1 div.sk-serial {display: flex;flex-direction: column;align-items: center;background-color: white;padding-right: 0.2em;padding-left: 0.2em;position: relative;}#sk-container-id-1 div.sk-item {position: relative;z-index: 1;}#sk-container-id-1 div.sk-parallel {display: flex;align-items: stretch;justify-content: center;background-color: white;position: relative;}#sk-container-id-1 div.sk-item::before, #sk-container-id-1 div.sk-parallel-item::before {content: \"\";position: absolute;border-left: 1px solid gray;box-sizing: border-box;top: 0;bottom: 0;left: 50%;z-index: -1;}#sk-container-id-1 div.sk-parallel-item {display: flex;flex-direction: column;z-index: 1;position: relative;background-color: white;}#sk-container-id-1 div.sk-parallel-item:first-child::after {align-self: flex-end;width: 50%;}#sk-container-id-1 div.sk-parallel-item:last-child::after {align-self: flex-start;width: 50%;}#sk-container-id-1 div.sk-parallel-item:only-child::after {width: 0;}#sk-container-id-1 div.sk-dashed-wrapped {border: 1px dashed gray;margin: 0 0.4em 0.5em 0.4em;box-sizing: border-box;padding-bottom: 0.4em;background-color: white;}#sk-container-id-1 div.sk-label label {font-family: monospace;font-weight: bold;display: inline-block;line-height: 1.2em;}#sk-container-id-1 div.sk-label-container {text-align: center;}#sk-container-id-1 div.sk-container {/* jupyter's `normalize.less` sets `[hidden] { display: none; }` but bootstrap.min.css set `[hidden] { display: none !important; }` so we also need the `!important` here to be able to override the default hidden behavior on the sphinx rendered scikit-learn.org. See: https://github.com/scikit-learn/scikit-learn/issues/21755 */display: inline-block !important;position: relative;}#sk-container-id-1 div.sk-text-repr-fallback {display: none;}</style><div id=\"sk-container-id-1\" class=\"sk-top-container\"><div class=\"sk-text-repr-fallback\"><pre>LocalOutlierFactor(contamination=0.01, novelty=True)</pre><b>In a Jupyter environment, please rerun this cell to show the HTML representation or trust the notebook. <br />On GitHub, the HTML representation is unable to render, please try loading this page with nbviewer.org.</b></div><div class=\"sk-container\" hidden><div class=\"sk-item\"><div class=\"sk-estimator sk-toggleable\"><input class=\"sk-toggleable__control sk-hidden--visually\" id=\"sk-estimator-id-1\" type=\"checkbox\" checked><label for=\"sk-estimator-id-1\" class=\"sk-toggleable__label sk-toggleable__label-arrow\">LocalOutlierFactor</label><div class=\"sk-toggleable__content\"><pre>LocalOutlierFactor(contamination=0.01, novelty=True)</pre></div></div></div></div></div>"
      ],
      "text/plain": [
       "LocalOutlierFactor(contamination=0.01, novelty=True)"
      ]
     },
     "execution_count": 16,
     "metadata": {},
     "output_type": "execute_result"
    }
   ],
   "source": [
    "lof = LocalOutlierFactor(n_neighbors=20, contamination=0.01, novelty=True)\n",
    "lof.fit(embeddings)"
   ]
  },
  {
   "cell_type": "code",
   "execution_count": 33,
   "id": "930ede38-86d6-42b0-ace9-04b560393bfd",
   "metadata": {},
   "outputs": [
    {
     "name": "stdout",
     "output_type": "stream",
     "text": [
      "(23481, 4)\n",
      "<class 'pandas.core.frame.DataFrame'>\n",
      "RangeIndex: 23481 entries, 0 to 23480\n",
      "Data columns (total 4 columns):\n",
      " #   Column   Non-Null Count  Dtype \n",
      "---  ------   --------------  ----- \n",
      " 0   title    23481 non-null  object\n",
      " 1   text     23481 non-null  object\n",
      " 2   subject  23481 non-null  object\n",
      " 3   date     23481 non-null  object\n",
      "dtypes: object(4)\n",
      "memory usage: 733.9+ KB\n"
     ]
    },
    {
     "data": {
      "text/html": [
       "<div>\n",
       "<style scoped>\n",
       "    .dataframe tbody tr th:only-of-type {\n",
       "        vertical-align: middle;\n",
       "    }\n",
       "\n",
       "    .dataframe tbody tr th {\n",
       "        vertical-align: top;\n",
       "    }\n",
       "\n",
       "    .dataframe thead th {\n",
       "        text-align: right;\n",
       "    }\n",
       "</style>\n",
       "<table border=\"1\" class=\"dataframe\">\n",
       "  <thead>\n",
       "    <tr style=\"text-align: right;\">\n",
       "      <th></th>\n",
       "      <th>title</th>\n",
       "      <th>text</th>\n",
       "      <th>subject</th>\n",
       "      <th>date</th>\n",
       "    </tr>\n",
       "  </thead>\n",
       "  <tbody>\n",
       "    <tr>\n",
       "      <th>0</th>\n",
       "      <td>Donald Trump Sends Out Embarrassing New Year’...</td>\n",
       "      <td>Donald Trump just couldn t wish all Americans ...</td>\n",
       "      <td>News</td>\n",
       "      <td>December 31, 2017</td>\n",
       "    </tr>\n",
       "    <tr>\n",
       "      <th>1</th>\n",
       "      <td>Drunk Bragging Trump Staffer Started Russian ...</td>\n",
       "      <td>House Intelligence Committee Chairman Devin Nu...</td>\n",
       "      <td>News</td>\n",
       "      <td>December 31, 2017</td>\n",
       "    </tr>\n",
       "    <tr>\n",
       "      <th>2</th>\n",
       "      <td>Sheriff David Clarke Becomes An Internet Joke...</td>\n",
       "      <td>On Friday, it was revealed that former Milwauk...</td>\n",
       "      <td>News</td>\n",
       "      <td>December 30, 2017</td>\n",
       "    </tr>\n",
       "    <tr>\n",
       "      <th>3</th>\n",
       "      <td>Trump Is So Obsessed He Even Has Obama’s Name...</td>\n",
       "      <td>On Christmas day, Donald Trump announced that ...</td>\n",
       "      <td>News</td>\n",
       "      <td>December 29, 2017</td>\n",
       "    </tr>\n",
       "    <tr>\n",
       "      <th>4</th>\n",
       "      <td>Pope Francis Just Called Out Donald Trump Dur...</td>\n",
       "      <td>Pope Francis used his annual Christmas Day mes...</td>\n",
       "      <td>News</td>\n",
       "      <td>December 25, 2017</td>\n",
       "    </tr>\n",
       "  </tbody>\n",
       "</table>\n",
       "</div>"
      ],
      "text/plain": [
       "                                               title  \\\n",
       "0   Donald Trump Sends Out Embarrassing New Year’...   \n",
       "1   Drunk Bragging Trump Staffer Started Russian ...   \n",
       "2   Sheriff David Clarke Becomes An Internet Joke...   \n",
       "3   Trump Is So Obsessed He Even Has Obama’s Name...   \n",
       "4   Pope Francis Just Called Out Donald Trump Dur...   \n",
       "\n",
       "                                                text subject  \\\n",
       "0  Donald Trump just couldn t wish all Americans ...    News   \n",
       "1  House Intelligence Committee Chairman Devin Nu...    News   \n",
       "2  On Friday, it was revealed that former Milwauk...    News   \n",
       "3  On Christmas day, Donald Trump announced that ...    News   \n",
       "4  Pope Francis used his annual Christmas Day mes...    News   \n",
       "\n",
       "                date  \n",
       "0  December 31, 2017  \n",
       "1  December 31, 2017  \n",
       "2  December 30, 2017  \n",
       "3  December 29, 2017  \n",
       "4  December 25, 2017  "
      ]
     },
     "execution_count": 33,
     "metadata": {},
     "output_type": "execute_result"
    }
   ],
   "source": [
    "false_df = pd.read_csv(\"test_data/Fake.csv\")\n",
    "print(false_df.shape)\n",
    "false_df.info()\n",
    "false_df.head()"
   ]
  },
  {
   "cell_type": "code",
   "execution_count": 34,
   "id": "f600173d-2dc4-4dec-ad24-0bdc7c95b886",
   "metadata": {},
   "outputs": [],
   "source": [
    "false_df.drop(columns=[\"title\",\"subject\",\"date\"],inplace=True)\n",
    "false_df['text'] = false_df['text'].apply(lambda x: ' '.join(x.split(' - ')[1:]))\n",
    "false_df['text']=false_df['text'].apply(clean_text)"
   ]
  },
  {
   "cell_type": "code",
   "execution_count": 37,
   "id": "b19141e1-a3b0-423a-a43c-bf4da3c823a4",
   "metadata": {},
   "outputs": [
    {
     "data": {
      "text/plain": [
       "(117, 1)"
      ]
     },
     "execution_count": 37,
     "metadata": {},
     "output_type": "execute_result"
    }
   ],
   "source": [
    "small_fake_df = false_df.sample(frac=0.005)\n",
    "small_fake_df.shape"
   ]
  },
  {
   "cell_type": "code",
   "execution_count": 38,
   "id": "a3e586bf-076d-40c8-8e5c-dfd95184cb6a",
   "metadata": {},
   "outputs": [],
   "source": [
    "small_fake_df[\"text\"] = small_fake_df[\"text\"].apply(fix)"
   ]
  },
  {
   "cell_type": "code",
   "execution_count": 39,
   "id": "7c24a4a7-2dfe-494d-901a-5eeb231dd331",
   "metadata": {},
   "outputs": [],
   "source": [
    "small_fake_df['text'] = small_fake_df['text'].apply(tokenize_and_remove_stopwords)"
   ]
  },
  {
   "cell_type": "code",
   "execution_count": 40,
   "id": "61b219f0-206f-4a26-9e1b-14c6f49ad4ca",
   "metadata": {},
   "outputs": [
    {
     "data": {
      "application/vnd.jupyter.widget-view+json": {
       "model_id": "dc82e7c1a27e4adf84594a2600859e6a",
       "version_major": 2,
       "version_minor": 0
      },
      "text/plain": [
       "Batches:   0%|          | 0/4 [00:00<?, ?it/s]"
      ]
     },
     "metadata": {},
     "output_type": "display_data"
    }
   ],
   "source": [
    "embeddings_false = model.encode(small_fake_df['text'].tolist(), show_progress_bar=True)"
   ]
  },
  {
   "cell_type": "code",
   "execution_count": 41,
   "id": "69a8cf04-77cf-480b-aad4-f736b7615f3d",
   "metadata": {},
   "outputs": [
    {
     "name": "stdout",
     "output_type": "stream",
     "text": [
      "<class 'numpy.ndarray'>\n",
      "(117, 384)\n"
     ]
    }
   ],
   "source": [
    "print(type(embeddings_false))\n",
    "print(np.array(embeddings_false).shape)"
   ]
  },
  {
   "cell_type": "code",
   "execution_count": 42,
   "id": "8ed48228-550f-431c-b110-4d296e860d5c",
   "metadata": {},
   "outputs": [],
   "source": [
    "predictions_test = lof.predict(embeddings_false)"
   ]
  },
  {
   "cell_type": "code",
   "execution_count": 44,
   "id": "66667c23-1560-444e-ab60-4c1ba6d42cfd",
   "metadata": {},
   "outputs": [
    {
     "name": "stdout",
     "output_type": "stream",
     "text": [
      "Detected 117 anomalies (fake news) out of 117 samples\n",
      "Detected 0 normal samples\n"
     ]
    }
   ],
   "source": [
    "num_anomalies = np.sum(predictions_test == -1)\n",
    "num_normals = np.sum(predictions_test == 1)\n",
    "\n",
    "print(f\"Detected {num_anomalies} anomalies (fake news) out of {len(predictions_test)} samples\")\n",
    "print(f\"Detected {num_normals} normal samples\")"
   ]
  },
  {
   "cell_type": "code",
   "execution_count": 45,
   "id": "67bbf3d9-8253-43b7-ba55-1be4d0d27dfa",
   "metadata": {},
   "outputs": [],
   "source": [
    "predictions_train = lof.predict(embeddings)"
   ]
  },
  {
   "cell_type": "code",
   "execution_count": 46,
   "id": "afb72078-2c1e-4a05-854a-ff67583a75d2",
   "metadata": {},
   "outputs": [
    {
     "name": "stdout",
     "output_type": "stream",
     "text": [
      "Detected 15 anomalies (fake news) out of 2142 samples\n",
      "Detected 2127 normal samples\n"
     ]
    }
   ],
   "source": [
    "num_anomalies_train = np.sum(predictions_train == -1)\n",
    "num_normals_train = np.sum(predictions_train == 1)\n",
    "\n",
    "print(f\"Detected {num_anomalies_train} anomalies (fake news) out of {len(predictions_train)} samples\")\n",
    "print(f\"Detected {num_normals_train} normal samples\")"
   ]
  },
  {
   "cell_type": "code",
   "execution_count": 47,
   "id": "d6a9991d-a618-4c16-8112-482bb280dd4a",
   "metadata": {},
   "outputs": [
    {
     "data": {
      "text/plain": [
       "['concept_draft_model.joblib']"
      ]
     },
     "execution_count": 47,
     "metadata": {},
     "output_type": "execute_result"
    }
   ],
   "source": [
    "import joblib\n",
    "joblib.dump(lof, 'concept_draft_model.joblib')"
   ]
  },
  {
   "cell_type": "code",
   "execution_count": 49,
   "id": "4464295b-dfa4-41be-a02c-dcfa9d5532f3",
   "metadata": {},
   "outputs": [
    {
     "data": {
      "text/html": [
       "<style>#sk-container-id-2 {color: black;background-color: white;}#sk-container-id-2 pre{padding: 0;}#sk-container-id-2 div.sk-toggleable {background-color: white;}#sk-container-id-2 label.sk-toggleable__label {cursor: pointer;display: block;width: 100%;margin-bottom: 0;padding: 0.3em;box-sizing: border-box;text-align: center;}#sk-container-id-2 label.sk-toggleable__label-arrow:before {content: \"▸\";float: left;margin-right: 0.25em;color: #696969;}#sk-container-id-2 label.sk-toggleable__label-arrow:hover:before {color: black;}#sk-container-id-2 div.sk-estimator:hover label.sk-toggleable__label-arrow:before {color: black;}#sk-container-id-2 div.sk-toggleable__content {max-height: 0;max-width: 0;overflow: hidden;text-align: left;background-color: #f0f8ff;}#sk-container-id-2 div.sk-toggleable__content pre {margin: 0.2em;color: black;border-radius: 0.25em;background-color: #f0f8ff;}#sk-container-id-2 input.sk-toggleable__control:checked~div.sk-toggleable__content {max-height: 200px;max-width: 100%;overflow: auto;}#sk-container-id-2 input.sk-toggleable__control:checked~label.sk-toggleable__label-arrow:before {content: \"▾\";}#sk-container-id-2 div.sk-estimator input.sk-toggleable__control:checked~label.sk-toggleable__label {background-color: #d4ebff;}#sk-container-id-2 div.sk-label input.sk-toggleable__control:checked~label.sk-toggleable__label {background-color: #d4ebff;}#sk-container-id-2 input.sk-hidden--visually {border: 0;clip: rect(1px 1px 1px 1px);clip: rect(1px, 1px, 1px, 1px);height: 1px;margin: -1px;overflow: hidden;padding: 0;position: absolute;width: 1px;}#sk-container-id-2 div.sk-estimator {font-family: monospace;background-color: #f0f8ff;border: 1px dotted black;border-radius: 0.25em;box-sizing: border-box;margin-bottom: 0.5em;}#sk-container-id-2 div.sk-estimator:hover {background-color: #d4ebff;}#sk-container-id-2 div.sk-parallel-item::after {content: \"\";width: 100%;border-bottom: 1px solid gray;flex-grow: 1;}#sk-container-id-2 div.sk-label:hover label.sk-toggleable__label {background-color: #d4ebff;}#sk-container-id-2 div.sk-serial::before {content: \"\";position: absolute;border-left: 1px solid gray;box-sizing: border-box;top: 0;bottom: 0;left: 50%;z-index: 0;}#sk-container-id-2 div.sk-serial {display: flex;flex-direction: column;align-items: center;background-color: white;padding-right: 0.2em;padding-left: 0.2em;position: relative;}#sk-container-id-2 div.sk-item {position: relative;z-index: 1;}#sk-container-id-2 div.sk-parallel {display: flex;align-items: stretch;justify-content: center;background-color: white;position: relative;}#sk-container-id-2 div.sk-item::before, #sk-container-id-2 div.sk-parallel-item::before {content: \"\";position: absolute;border-left: 1px solid gray;box-sizing: border-box;top: 0;bottom: 0;left: 50%;z-index: -1;}#sk-container-id-2 div.sk-parallel-item {display: flex;flex-direction: column;z-index: 1;position: relative;background-color: white;}#sk-container-id-2 div.sk-parallel-item:first-child::after {align-self: flex-end;width: 50%;}#sk-container-id-2 div.sk-parallel-item:last-child::after {align-self: flex-start;width: 50%;}#sk-container-id-2 div.sk-parallel-item:only-child::after {width: 0;}#sk-container-id-2 div.sk-dashed-wrapped {border: 1px dashed gray;margin: 0 0.4em 0.5em 0.4em;box-sizing: border-box;padding-bottom: 0.4em;background-color: white;}#sk-container-id-2 div.sk-label label {font-family: monospace;font-weight: bold;display: inline-block;line-height: 1.2em;}#sk-container-id-2 div.sk-label-container {text-align: center;}#sk-container-id-2 div.sk-container {/* jupyter's `normalize.less` sets `[hidden] { display: none; }` but bootstrap.min.css set `[hidden] { display: none !important; }` so we also need the `!important` here to be able to override the default hidden behavior on the sphinx rendered scikit-learn.org. See: https://github.com/scikit-learn/scikit-learn/issues/21755 */display: inline-block !important;position: relative;}#sk-container-id-2 div.sk-text-repr-fallback {display: none;}</style><div id=\"sk-container-id-2\" class=\"sk-top-container\"><div class=\"sk-text-repr-fallback\"><pre>IsolationForest(contamination=0.01, random_state=42)</pre><b>In a Jupyter environment, please rerun this cell to show the HTML representation or trust the notebook. <br />On GitHub, the HTML representation is unable to render, please try loading this page with nbviewer.org.</b></div><div class=\"sk-container\" hidden><div class=\"sk-item\"><div class=\"sk-estimator sk-toggleable\"><input class=\"sk-toggleable__control sk-hidden--visually\" id=\"sk-estimator-id-2\" type=\"checkbox\" checked><label for=\"sk-estimator-id-2\" class=\"sk-toggleable__label sk-toggleable__label-arrow\">IsolationForest</label><div class=\"sk-toggleable__content\"><pre>IsolationForest(contamination=0.01, random_state=42)</pre></div></div></div></div></div>"
      ],
      "text/plain": [
       "IsolationForest(contamination=0.01, random_state=42)"
      ]
     },
     "execution_count": 49,
     "metadata": {},
     "output_type": "execute_result"
    }
   ],
   "source": [
    "from sklearn.ensemble import IsolationForest\n",
    "model = IsolationForest(contamination=0.01, random_state=42)\n",
    "model.fit(embeddings)"
   ]
  },
  {
   "cell_type": "code",
   "execution_count": 50,
   "id": "35839752-a2be-43a0-9f15-ac65294681cb",
   "metadata": {},
   "outputs": [],
   "source": [
    "predictions_iso = model.predict(embeddings_false)"
   ]
  },
  {
   "cell_type": "code",
   "execution_count": 51,
   "id": "4b25b095-7a86-4afa-9098-9967f4bbf872",
   "metadata": {},
   "outputs": [],
   "source": [
    "scores = model.decision_function(embeddings_false)"
   ]
  },
  {
   "cell_type": "code",
   "execution_count": 52,
   "id": "880811aa-ba26-47f2-80d8-c50f3d5bff39",
   "metadata": {},
   "outputs": [
    {
     "data": {
      "text/plain": [
       "array([0.05395592, 0.05395592, 0.05395592, 0.05395592, 0.05395592,\n",
       "       0.05395592, 0.05395592, 0.05395592, 0.05395592, 0.05395592,\n",
       "       0.05395592, 0.05395592, 0.05395592, 0.05395592, 0.05395592,\n",
       "       0.05395592, 0.05395592, 0.05395592, 0.05395592, 0.05395592,\n",
       "       0.05395592, 0.05395592, 0.05395592, 0.05395592, 0.05395592,\n",
       "       0.05395592, 0.05395592, 0.05395592, 0.05395592, 0.05395592,\n",
       "       0.05395592, 0.05395592, 0.05395592, 0.05395592, 0.05395592,\n",
       "       0.05395592, 0.05395592, 0.05395592, 0.05395592, 0.05395592,\n",
       "       0.05395592, 0.05395592, 0.05395592, 0.05395592, 0.05395592,\n",
       "       0.05395592, 0.05395592, 0.05395592, 0.05395592, 0.05395592,\n",
       "       0.05395592, 0.05395592, 0.05395592, 0.05395592, 0.05395592,\n",
       "       0.05395592, 0.05395592, 0.05395592, 0.05395592, 0.05395592,\n",
       "       0.05395592, 0.05395592, 0.05395592, 0.05395592, 0.05395592,\n",
       "       0.05395592, 0.05395592, 0.05395592, 0.05395592, 0.05395592,\n",
       "       0.05395592, 0.05395592, 0.05395592, 0.05395592, 0.05395592,\n",
       "       0.05395592, 0.05395592, 0.05395592, 0.05395592, 0.05395592,\n",
       "       0.05395592, 0.05395592, 0.05395592, 0.05395592, 0.05395592,\n",
       "       0.05395592, 0.05395592, 0.05395592, 0.05395592, 0.05395592,\n",
       "       0.05395592, 0.05395592, 0.05395592, 0.05395592, 0.05395592,\n",
       "       0.05395592, 0.05395592, 0.05395592, 0.05395592, 0.05395592,\n",
       "       0.05395592, 0.05395592, 0.05395592, 0.05395592, 0.05395592,\n",
       "       0.05395592, 0.05395592, 0.05395592, 0.05395592, 0.05395592,\n",
       "       0.05395592, 0.05395592, 0.05395592, 0.05395592, 0.05395592,\n",
       "       0.05395592, 0.05395592])"
      ]
     },
     "execution_count": 52,
     "metadata": {},
     "output_type": "execute_result"
    }
   ],
   "source": [
    "scores"
   ]
  },
  {
   "cell_type": "code",
   "execution_count": 53,
   "id": "1d4d2940-dd12-4c4a-a646-a5840ec6d008",
   "metadata": {},
   "outputs": [],
   "source": [
    "from sklearn.neighbors import NearestNeighbors"
   ]
  },
  {
   "cell_type": "code",
   "execution_count": 55,
   "id": "63ad0401-f21c-4012-8970-ecf653803054",
   "metadata": {},
   "outputs": [],
   "source": [
    "nn = NearestNeighbors(n_neighbors=20)\n",
    "nn.fit(embeddings)\n",
    "distances, indices = nn.kneighbors([embeddings[0]])\n",
    "\n",
    "neighbors_texts = small_true_df.iloc[indices[0]]['text'].tolist()"
   ]
  },
  {
   "cell_type": "code",
   "execution_count": 56,
   "id": "cbb0ed4c-1de8-499e-a26a-dfb809a12977",
   "metadata": {},
   "outputs": [],
   "source": [
    "neighbors_distances = distances[0]"
   ]
  },
  {
   "cell_type": "code",
   "execution_count": 57,
   "id": "e0d3e197-1544-48e4-bc3e-1babb218468c",
   "metadata": {},
   "outputs": [
    {
     "data": {
      "text/plain": [
       "['us defense secretary jim mattis said thursday north korea missile launch japan put millions japanese duck cover landed pacific ocean added top us officials fully coordinated testlaunch got done calls always make coordinate among steady goes mattis told reporters traveling visit us strategic command oversees us nuclear forces',\n",
       " 'united nations security council meet 3 pm edt 1900 gmt friday latest north korea missile test diplomats said request united states japan north korea fired missile flew japan northern hokkaido far pacific ocean friday south korean japanese officials said ratcheting tensions pyongyang recent test powerful nuclear bomb 15member security council unanimously stepped sanctions north korea monday sept 3 nuclear test imposing ban country textile exports capping imports crude oil ninth un sanctions resolution adopted north korea since 2006',\n",
       " 'us president donald trump said monday japan would shoot north korean missiles sky bought us weaponry needed suggesting tokyo take stance avoided north korea pursuing nuclear weapons missile programs defiance un security council sanctions made secret plans develop missile capable hitting us mainland fired two missiles japan trump speaking summit japanese prime minister shinzo abe repeated mantra era strategic patience north korea said two countries working counter dangerous aggressions trump also pressed japan lower trade deficit united states buy us military hardware abe shoot sky completes purchase lots additional military equipment united states trump said referring north korean missiles prime minister going purchasing massive amounts military equipment make best military equipment far abe part said tokyo would shoot missiles necessary trump replying question posed abe namely would respond quote trump recent interview said japan samurai nation shot north korean missiles japans policy would shoot missile falling japanese territory judged pose existential threat japan aimed us target us president second day 12day asian trip focusing north koreas nuclear missile programs trade importantly working counter dangerous aggressions regime north korea trump said calling pyongyangs nuclear tests recent launches ballistic missiles japan threat civilized world international peace stability people said rhetoric strong look happened weak rhetoric last 25 years look right added north koreas recent actions raised stakes critical international challenge trumps presidency us leader visit south korea trip rattled allies vow totally destroy north korea threatens united states dismissal north korean leader kim jong un rocket man suicide mission abe trump bonded multiple summits phone calls repeated news conference japan backed trumps stance options table saying time exert maximum pressure north korea two countries 100 percent together issue chinese foreign ministry spokesman hua chunying response abes comments said north korean situation already extremely complex sensitive weak hope present circumstances sides words actions help reduce tensions reestablish mutual trust getting north korean nuclear issue back correct track dialogue negotiations said trump said committed achieving free fair reciprocal trade wants work japan issue america also committed improving economic relationship japan trump said president committed achieving fair free reciprocal trading relationship seek equal reliable access american exports japans markets order eliminate chronic trade imbalances deficits japan earlier speaking japanese us business executives trump praised japan buying us military hardware added many millions cars sold japan united states whereas virtually cars go united states japan japan 69 billion trade surplus united states last year according us treasury department united states japans second biggest trade partner china japan united states fourth largest goods export market 2016 japanese officials countered us trade complaints noting tokyo accounts much smaller slice us deficit past chinas imbalance bigger second round economic talks washington last month us vice president mike pence japanese finance minister taro aso doubles deputy premier failed bridge differences trade issues two sides odds frame future trade talks tokyo pushing back us calls discuss bilateral free trade agreement trump also said earlier indopacific trade framework would produce trade transpacific partnership pact pushed predecessor announced washington would abandon soon took office 11 remaining nations tpp japans abe firmly committed edging closer sealing comprehensive free trade pact without united states trump met emperor akihito exchanging handshake nodding lunch talks abe also met relatives japanese citizens abducted north korean agents decades ago help train spies calling kidnappings tremendous disgrace pledging work abe bring victims back japan want think would tremendous signal kim jong un would send back trump said would send back would start something something special abe made resolving emotive abductions issue keystone career families hope talks trump third us president met somehow contribute breakthrough although experts say progress unlikely abe also expressed condolences victims gunman massacred least 26 worshippers church texas white house spokeswoman sarah sanders said trump plans change schedule 12day asian trip also take seoul beijing danang vietnam trumps visit asia tmsnrtrs2znsb0v',\n",
       " 'latest test new north korean intercontinental ballistic missile icbm provocative act russia said wednesday calling sides involved stay calm avoid clash north korea said successfully tested powerful new icbm wednesday put entire us mainland within range nuclear weapons latest test highest longest north korean missile flown landing sea near japan certainly new missile launch provocative act provokes growth tension moves us away point settlement crisis begin kremlin spokesman dmitry peskov said conference call reporters north korea first missile test since midseptember came week us president donald trump put north korea back us list countries says support terrorism allowing impose sanctions washington said repeatedly options including military ones table dealing north korea stressing desire peaceful solution diplomatic options remain viable open us secretary state rex tillerson said condemning latest test kremlin peskov said hope sides involved able preserve calm necessary avoid situation korean peninsula sliding towards worstcase scenario russia china proposed roadmap defusing crisis region wednesday russia foreign ministry repeated offer use plan calling north korea stop missile nuclear tests urging united states south korea abstain unprecedentedly largescale unscheduled military air exercises announced held early december asked kremlin believed proposed roadmap considered north korean leadership peskov said let put way grounds substantial optimism',\n",
       " 'north korea said saturday targeting us mainland rockets inevitable mr evil president donald trump called pyongyang leader rocket man escalating rhetoric north nuclear weapons missile programs north korean foreign minister ri yong ho remarks united nations general assembly came hours us air force b1b lancer bombers escorted fighters flew international airspace waters east north korea show force pentagon said showed range military options available trump ri speech capped week rising tensions washington pyongyang trump north korean leader kim jong un trading insults trump called kim madman friday day kim dubbed mentally deranged us dotard saturday mudslinging continued ri calling trump mentally deranged person full megalomania complacency trying turn united nations gangsters nest ri said trump suicide mission us president said kim mission president evil holding seat us president ri said warning pyongyang ready defend united states showed sign conducting decapitating operation headquarters military attack country finally steps away final gate completion state nuclear force ri told annual gathering world leaders said sanctions would effect pyongyang resolve develop nuclear weapons ultimate goal balance power us trump announced new us sanctions thursday said allow targeting companies institutions finance facilitate trade north korea earlier month un security council unanimously adopted ninth round sanctions pyongyang counter nuclear ballistic missiles programs us bombers flight farthest north demilitarized zone separating north south korea us fighter jet bomber flown 21st century pentagon said mission demonstration us resolve clear message president many military options defeat threat said pentagon spokeswoman dana white prepared use full range military capabilities defend us homeland allies north korea launched dozens missiles year several flying japan accelerates program aimed enabling target united states nucleartipped missile pyongyang conducted sixth largest nuclear test sept 3 threatened test hydrogen bomb pacific ri met un secretarygeneral antonio guterres delivering speech guterres expressed concern ri escalating tensions appealed deescalation united nations said statement pentagon said b1b bombers came guam us air force f15c eagle fighter escorts came okinawa japan previous shows force bombers stayed south demilitarized zone patrols came officials experts said small earthquake near north korea nuclear test site saturday probably manmade easing fears pyongyang exploded another nuclear bomb weeks last one china earthquake administration said quake nuclear explosion characteristics natural tremor ctbto comprehensive testban treaty organization monitors nuclear tests officials south korean meteorological agency also said believed natural quake earthquake south korea meteorological agency put magnitude 30 detected 49 km kilju north hamgyong province north korea known punggyeri nuclear site located official said north korea nuclear tests registered earthquakes magnitude 43 last registered magnitude 63 tensions continued rise around korean peninsula since pyongyang carried sixth test prompting new round un sanctions trump told united nations tuesday united states would totally destroy north korea threatened united states allies north korea nuclear tests date underground experts say atmospheric test would first since one china 1980 would proof success weapons program united states south korea technically still war north korea 195053 korean conflict ended truce peace treaty north accuses united states 28500 troops south korea planning invade regularly threatens destroy asian allies graphic nuclear north korea click tmsnrtrs2le5yjf graphic tally nuclear tests click tmsnrtrs2xwf6ja',\n",
       " 'threatening action rhetoric help resolve situation korean peninsula china foreign ministry said tuesday us defense secretary jim mattis hinted existence military options north korea north repeatedly defied united nations conduct nuclear missile tests latest midrange missile fired japan friday soon reclusive nation sixth powerful nuclear test sept 3 asked whether military options united states could take north korea would put seoul grave risk mattis said declined give details developments peninsula nuclear issue point prove matter whether military threats words action promote advance resolution foreign ministry spokesman lu kang said contrary adds tensions makes achieving goal denuclearization peninsula appear complicated difficult resolve added responding question mattis comments regular briefing seoul within artillery range north korea also believed sizable chemical biological arsenal beyond nuclear conventional weapons conflict korean peninsula could lead bloodshed unseen since 195053 korean war took lives 50000 americans millions koreans ended armed truce peace treaty military options available united states range nonlethal actions naval blockade enforce sanctions waging cyber attacks positioning new us weaponry south korea united states 28500 troops south korea united states separately russia together china started military drills monday show force north korea korean peninsula issue must resolved peacefully chinese foreign minister wang yi stressed meeting russian counterpart united nations chinese president xi jinping us president donald trump spoke telephone keeping pressure north korea using economic sanctions imposed united nations white house said story refiled reformat paragraph 10',\n",
       " 'chinese foreign minister wang yi said monday two months relative calm korean peninsula resurfacing tensions regrettable wang speaking reporters joint briefing mongolian counterpart said china open attitude solutions north korean nuclear issue parties consultative late november north korea tested advanced intercontinental ballistic missile yet putting continental united states within range increasing pressure us president donald trump deal nucleararmed nation north korea committee peaceful reunification country called trump insane sunday said air drills united states south would push already acute situation korean peninsula brink nuclear war',\n",
       " 'us president donald trump boasted early last week sent armada warning north korea aircraft carrier strike group spoke still far korean peninsula headed opposite direction even farther away weekend moving sunda strait indian ocean north korea displayed appeared new missiles parade staged failed missile test us militarys pacific command explained tuesday strike group first complete shorterthaninitially planned period training australia proceeding western pacific ordered said perceived communications mixup raised eyebrows among korea experts wonder whether erodes trump administrations credibility time us rhetoric norths advancing nuclear missile capabilities raising concerns potential conflict threaten threat credible going undermine whatever policy toward could logical conclusion happened said north korea expert joel wit 38 north monitoring group run johns hopkins universitys school advanced international studies us military initially said statement dated april 10 admiral harry harris commander pacific command directed carl vinson strike group sail north report station western pacific reuters news outlets reported april 11 movement would take week navy security reasons says report future operational locations ships defense secretary jim mattis initially appeared play deployment april 11 saying vinson way thought prudent time specific demand signal specific reason sending said even mattis initially misspoke strike groups itinerary telling news conference vinson pulled exercise australia pentagon since corrected record saying ships planned port visit fremantle australia canceled exercise australias navy april 15 us navy even published photo showing vinson transiting sunda strait april 1618 website wwwgonavyjpcvlocationhtml reported vinson indian ocean us military official speaking condition anonymity said vinson carried exercises passing sunda strait wrapped week',\n",
       " 'us president donald trump headed japan first stop fivenation tour asia saturday looking present united front japanese north korea tensions run high pyongyang nuclear missile tests trump 12day trip speak us japanese forces yokota air base shortly arriving japan sunday looked stress importance alliance regional security ballistic missile tests north korea sixth largest nuclear test defiance un security council resolutions exacerbated critical international challenge trump presidency aerial drills conducted south korea two us strategic bombers raised tensions recent days display golf diplomacy trump play round golf japanese prime minister shinzo abe two leaders also played together florida earlier year trump also state call imperial family akasaka palace visit abe trump meet families japanese citizens abducted north korea joined wife melania part trip trump tour asia longest american president since george hw bush 1992 besides japan visit south korea china vietnam philippines trump departed hawaii japan aboard air force one shortly 727 hawaii time 1727 gmt en route hawaii hickham air force base trump motorcade stopped briefly trump international hotel waikiki tremendously successful project wanted say hello thank employees hard work white house spokeswoman sarah sanders said trump extended trip day friday agreed participate summit east asian nations manila trip got colorful start hawaii taken boat uss arizona memorial lies world war two ship sunk japanese pearl harbor attack 1941 trumps tossed white flower petals waters memorial honor died pearl harbor trump trip dominated trade muster international pressure north korea give nuclear weapons talking trade trump told reporters white house friday talking obviously north korea enlisting help lot people countries see happens think going successful trip lot good trump rattled allies vow totally destroy north korea threatens united states dismissal north korean leader kim jong un rocket man suicide mission white house national security adviser hr mcmaster briefing reporters friday defended trump colorful language inflammatory north korean regime threaten world mcmaster said trump seek united front leaders japan south korea north korea visiting beijing make case chinese president xi jinping rein pyongyang trade factor heavily trump trip tries persuade asian allies agree trade policies favorable united states centerpiece trip visit asia pacific economic cooperation summit danang vietnam deliver speech support free open indopacific region seen offering bulwark response expansionist chinese policies',\n",
       " 'americas allies asia silent wednesday confusion us aircraft carrier group supposed headed toward north korea show force actually completing training exercises australia many chinese took social media joke american imperialism paper tiger said one user weibo chinas version twitter aircraft carrier sleepwalking said another us militarys pacific command explained tuesday carl vinson strike group first complete shorterthaninitially planned period training australia proceeding western pacific ordered said us president donald trump said last week ordered strike group head korean waters amid talk unpredictable north korea likely conduct nuclear longrange ballistic missile test comment details us operation assets military official said seoul capital south korea north korea remains technically war south united states 195053 korean war ended armistice peace treaty signed japan main us ally region comment mixup chinas foreign ministry declined comment regular briefing singaporebased security expert ian storey said countries region would found confusion strike groups location unsettling perplexing disconnect white house pacific command may operational issue distinctly odd said storey based iseas yusof ishak institute fact carl vinson strike group vicinity korean peninsula undermines trump administrations tough approach towards pyongyang north korea refer mixup said united states allies mess us nuclear powered aircraft carrier united states puppet group loudly advertising nothing pile scrap metal face revolutionary forces mighty power said rodong sinmun official newspaper norths ruling workers party',\n",
       " 'us defense secretary jim mattis said would talk asian allies north korea crisis caused pyongyang reckless provocations kicked weeklong trip region monday meet defense chiefs philippines mattis trip asia also include stops thailand south korea comes weeks president donald trump first visit asia trump locked war words north korean leader kim jong un calling rocket man suicide mission openly pursuing nucleartipped missile capable hitting united states trump speech last month united nations threatened destroy north korea necessary defend united states allies kim blasted trump mentally deranged mattis emphasized diplomacy expected meet japanese south korean counterparts monday meeting three together attend meeting monday wednesday defense ministers association southeast asian nations known asean philippines go seoul later week defense talks talk counterparts discussing regional security crisis caused reckless dprk north korea provocations also discuss respect shared values like sovereignty states territorial integrity freedom navigation historically international waters fair reciprocal trade mattis told reporters us navy destroyer sailed near islands claimed china south china sea last week seeking promote freedom navigation maneuver prompted anger beijing trump trip next month include visit china pressuring rein north korea missile nuclear programs china north korea neighbor biggest trading partner mattis philippines said would commend military defeating insurgents marawi city island mindanao experts see siege prelude ambitious bid islamic state loyalists exploit mindanao poverty use jungles mountains base train recruit launch attacks region tough fight mattis said adding thought philippines sent necessary message terrorists thursday mattis lead us delegation thailand cremation rites late king bhumibol adulyadej',\n",
       " 'us government experts think north korea could conduct new missile test within days would first launch since fired missile japan midseptember two authoritative us government sources said tuesday one sources want identified said united states evidence japanese reports monitoring signals suggesting north korea preparing new missile test accurate sources said us government experts believed new test could occur within days japanese government source said earlier tuesday japan detected radio signals suggesting north korea may preparing another ballistic missile launch although signals unusual satellite images show fresh activity south korea yonhap news agency citing south korean government source also reported intelligence officials united states south korea japan recently detected signs possible missile launch higher alert us officials spoke reuters declined say type missile think north korea might test noted pyongyang working develop nucleartipped missiles capable hitting united states already tested intercontinental ballistic missiles us intelligence officials noted north korea previously sent deliberately misleading signs preparations missile nuclear tests part mask real preparations part test us allied intelligence activities firing missiles rate two three month since april north korea paused missile launches late september fired missile passed japan northern hokkaido island sept 15 last week north korea denounced us president donald trump decision relist state sponsor terrorism calling serious provocation violent infringement designation allows united states impose sanctions though experts said risked inflaming tensions trump traded insults threats north korean leader kim jong un warned maiden speech united nations september united states would choice totally destroy north korea forced defend allies washington said repeatedly options table dealing north korea including military ones prefers peaceful solution pyongyang agreeing give nuclear missile programs end trump pursued policy encouraging countries around world including north korea main ally neighbor china step sanctions pyongyang persuade give weapons programs north korea given indication willing reenter dialogue terms south korean unification minister chow myounggyon told reporters tuesday noteworthy movements north since last missile launch including engine tests hard evidence another nuclear missile test north korea engaging new nuclear missile tests recently seen persistently testing engines carrying fuel tests said need time see whether directly related missile nuclear tests cho said north korea may announce completion nuclear program within year moving quickly expected developing arsenal north korea defends weapons programs necessary defense us plans invade united states 28500 troops south korea legacy 195053 korean war denies intention',\n",
       " 'us vice president mike pence reassured japan american commitment reining north koreas nuclear missile ambitions tuesday warning us strikes syria afghanistan showed strength resolve pence arrived tokyo south korea assured leaders ironclad alliance united states face reclusive north conducted series missile nuclear tests defiance un sanctions era strategic patience options table president donald trump determined work closely japan south korea allies region china achieve peaceable resolution denuclearization korean peninsula pence said tokyo lunch prime minister shinzo abe pence abe agreed needed persuade china play larger role dealing north korea japanese government spokesman said north korea regularly threatens destroy japan south korea united states showed letup belligerence failed missile test sunday day putting huge display missiles parade pyongyang north koreas deputy representative united nations kim ryong accused united states monday creating situation nuclear war could break time said norths next nuclear test would take place time place headquarters deems necessary north koreas vice foreign minister han songryol told bbc missiles would tested weekly monthly yearly basis north warned nuclear strike united states provoked said developed missile strike mainland united states officials experts believe time away mastering necessary technology including miniaturizing nuclear warhead pence said monday world seen trumps resolve past two weeks us missile attack syrian airfield dropping powerful nonnuclear bomb islamic state fighters afghanistan trump administration said military action remains option dealing north korea mindful would likely trigger massive retaliation casualties south korea japan us officials say trumps main focus tougher economic sanctions us officials say tougher sanctions could include oil embargo global ban north koreas airline intercepting cargo ships punishing chinese banks business pyongyang also say greater chinese cooperation vital susan thornton acting us assistant secretary state east asia said secretary state rex tillerson chinas top diplomat state councillor yang jiechi agreed phone call sunday need strict enforcement un resolutions chinese foreign minister wang yi repeated chinas line crisis could resolved diplomacy seen united states reiterated willing use political diplomatic means resolve first choice told reporters beijing course think country feel political diplomatic means course first choice wang said pences economic discussions tokyo closely watched see hard line washington prepared take trade trump campaigned america first platform vowed narrow big trade deficits nations china japan however trump also shown willingness link trade issues saying would cut better trade deal china exerts influence north korea china banned imports north korean coal important export february chinese media raised possibility restricting oil shipments north north korea used chinesemade trucks display missiles military parade saturday according photographs underlining difficulty enforcing un sanctions china north korea maintain normal contacts including normal business contacts said chinese foreign ministry spokesman lu kang asked trucks time permanent member un security council china strictly adheres international responsibilities including security council resolutions lu told daily briefing impoverished north korea rich democratic south technically still war 19501953 conflict ended truce peace treaty south korea hosts 28500 us troops counter threat north trumps decision launch missile strike syria russian ally drop giant bomb afghanistan stick obamaera policies crimea mean russian hopes befriending kremlin slide russian state media hailed election win made uturn sunday media said scarier north korean leader kim jong un graphic nuclear north korea click graphic carl vinson strike group click',\n",
       " 'president donald trump warned tuesday options table united states respond north korea firing ballistic missile northern japan hokkaido island sea new show force missile test increased tension east asia us south korean forces conducted annual military exercises korean peninsula angering pyongyang sees war games preparation invasion north korea conducted dozens ballistic missile tests leader kim jong un defiance un sanctions firing projectiles mainland japan rare trump vowed let north korea develop nuclear missiles hit mainland united states said world received north korea latest message loud clear threatening destabilizing actions increase north korean regime isolation region among nations world options table trump said statement trump japanese prime minister shinzo abe spoke agreed north korea poses grave growing direct threat united states japan south korea white house said investors flocked safehaven assets missile firing dollar fell lowest 212 years basket major currencies dxy rebounded benchmark 10year us treasury note us10ytrr yields fell price gold xau hit ninemonth peak us stocks spx recovered sharply lower open initial assessment indicates north korean missile intermediaterange ballistic missile irbm pentagon said statement two us officials said appeared kn17 hwasong12 north korea kim guided launch hwasong12 intermediaterange ballistic missile tuesday drill counter joint exercises south korean us militaries north official kcna news agency said wednesday current ballistic rocket launching drill like real war first step military operation kpa pacific meaningful prelude containing guam kcna quoted kim saying pentagon spokesman colonel robert manning said diplomacy still washington preferred option pyongyang north korea defiant us know neither browbeat dprk economic sanctions military threats blackmail make dprk flinch road chosen north korea official rodong sinmun said using initials north official name democratic people republic korea north vows never give weapons programs saying necessary counter hostility united states allies united states said options including military table although preference diplomatic solution united states technically still war north 195053 conflict ended truce peace treaty relations worsened last year north korea staged two nuclear bomb tests us ambassador united nations nikki haley said launch absolutely unacceptable irresponsible security council needed take serious action saying enough enough haley said hoped china russia would continue work rest security council meets tuesday afternoon discuss done north korea nuclear missile programs security council earlier month unanimously imposed new sanctions north korea staged two longrange missile launches july response trump statement options table russian un ambassador vassily nebenzia told reporters troubling tensions high whose nerves stronger know us official denied report japan nikkei newspaper united states japan call tuesday meeting international embargo oil exports north korea securing diplomatic agreement ban would likely extraordinarily difficult diplomats say china russia typically view test longrange missile nuclear weapon trigger possible un sanctions negotiations past three substantial un sanctions resolutions taken one three months united states proposed security council adopt statement tuesday condemning north korea ballistic missile launch imploring states strictly fully expeditiously implement un sanctions pyongyang according copy draft statement seen reuters draft statement threaten new security council action north korea china north korea lone major ally foreign ministry spokeswoman hua chunying said crisis approaching critical juncture might also turning point open door peace talks launch north korea second since us secretary state rex tillerson appeared make peace overture last week welcoming called restraint pyongyang shown conducting tests several weeks trump also expressed optimism last week possible improvement relations saying north korea kim respect fact starting respect us experts asia said kim trying pressure washington get negotiating table latest missile tests north korea thinks exhibiting capability path dialogue open said masao okonogi professor emeritus japan keio university highflying missilesouth korea military said missile launched near north korean capital pyongyang 6 2100 gmt monday flew 2700 km 1680 miles reaching altitude 550 km 340 miles four south korean fighter jets bombed military firing range tuesday president moon jaein asked military demonstrate capabilities counter north korea south korea united states discussed deploying additional strategic assets korean peninsula south korea presidential blue house said statement without giving details earlier month north korea threatened fire four missiles sea near us pacific territory guam trump said would face fire fury threatened united states north korea fired said rocket carrying communications satellite orbit japan 2009 warning plan united states japan south korea considered ballistic missile test latest missile fell sea 1180 km 735 miles east hokkaido japanese government said many northern japanese towns sirens wailed loudspeakers urged residents take precautions sending scrambling leave houses others confessed idea',\n",
       " 'president donald trump japanese prime minister shinzo abe agreed work together steps counter north korea nuclear missile development ahead us leader visit asia japanese government said late monday 20minute phone call trump abe discussed schedule president coming visit includes nov 57 stop japan agreed remain close contact north korea deputy chief cabinet secretary yasutoshi nishimura told reporters trump told abe looking forward visit japan japan america 100 percent together room doubt japanus alliance nishimura said agreed deepen discussions north korean situation matters trump visit said',\n",
       " 'us vice president mike pence put north korea notice monday neither united states south korea would tolerate missile nuclear tests reclusive state us attack syria showing resolve pence south korean acting president hwang kyoahn expressed disappointment chinas retaliatory actions south korea response deployment us missile defense system thaad south reaffirmed plan go ahead deployment',\n",
       " 'united states ruling eventual possibility direct talks north korea deputy secretary state john j sullivan said tuesday hours pyongyang warned nuclear war might break moment talks adversaries long urged china particular washington ally japan reluctant sit table pyongyang continues pursue goal developing nucleartipped missile capable hitting united states eventually rule possibility course direct talks sullivan said tokyo talks japanese counterpart focus diplomacy solve problem presented dprk must however allies japan south korea elsewhere prepared worst diplomacy fail said dprk stands north korea official name democratic people republic korea washington state department spokeswoman heather nauert highlighted us diplomatic efforts sullivan others pressure north korea give weapons programmes encouraging implementation international sanctions nauert told regular briefing sanctions choking money supply north korea feeling effect even pyongyang showing anywhere near desiring talks hope diplomatic approach successful end nauert said adding secretary state rex tillerson got optimistic guy us government tension soared following series weapons tests north korea string increasingly bellicose exchanges us president donald trump north korean leader kim jong un leaflets apparently north korea calling trump mad dog depicting gruesome images turned across central seoul adding unusually personal element north korean propaganda situation korean peninsula attention whole world focused reached touchandgo point nuclear war may break moment north korea deputy un ambassador kim ryong told un general assembly committee monday long one take part us military actions dprk north korea intention use threaten use nuclear weapons country according kim prepared remarks discussion nuclear weapons kim read section loud south korea united states began weeklong joint naval drills waters around korean peninsula monday involving 40 ships militaries including nuclearpowered uss ronald reagan aircraft carrier south korea defense ministry said north korean state media said tuesday allies desperate efforts block north korea advance showed continue nuclear program last dprk fully ready us resorting including sanctions pressure military option tremendous nuclear force selfdefence irresistible strength selfreliance selfdevelopment official kcna news agency said commentary asked north korean envoy warning nuclear war chinese foreign ministry spokesman lu kang said would anyone interest china still hopes parties situation things korean peninsula highly complex sensitive exercise restraint benefit lowering tensions region lu told daily news briefing un security council ratcheted sanctions north korea nuclear ballistic missile programmes since 2006 recent un sanctions banned exports coal iron ore seafood aimed cutting third north total annual exports 3 billion experts say north korea scrambling find alternative sources hard currency keep economy afloat advance weapons program monday head cyberintelligence bae systems plc baesl said north korea lazarus hacking group probably responsible recent cyber heist taiwan taiwan central news agency said last week hackers sought steal 60 million far eastern bank recovered 500000 bae systems others previously linked lazarus 81million cyber heist bangladesh central bank last year north korea recently allowed citizens young 12 bet horse races first time country scrambles unearth new sources hard currency amid intensifying international sanctions punters previously risked three years hard labor gambling tightly controlled state growing importance private markets means people money spend leisure experts said lee sangkeun researcher institute unification studies seoul ewha womans university said wealthy north koreans pay activities chinese us currency many north koreans make lots money market dine hamburger restaurants go shopping help fatten regime coffers part reason regime still financial latitude despite international sanctions lee said',\n",
       " 'chinese academics publicly broaching idea china united states share plans deal potential conflict korean peninsula sign say north korea weapons test may making beijing open taboo subject chinese officials rebuffed top us military brass years efforts share contingencies war regime collapse pyongyang suspicious washington intentions fearful engagement could alienate north korea steadfast wartime ally jia qingguo dean school international studies china elite peking university respected advisor chinese leaders said article week chances war increasing daily might time china prepare worst war becomes real possibility china must prepared mind china must willing consider talks concerned countries contingency plans jia wrote article first published online east asia forum run australian national university given recent developments beijing may better choice start talking washington seoul jia said ties china north korea deteriorated sharply recent years point diplomats experts fear beijing may become like washington target neighbor ire jia comments forefront still sensitive debate china made north korea friday fired missile flew japan northern hokkaido far pacific ocean test came un security council latest round sanctions monday banning north korea textile exports capping fuel supplies response pyongyang accelerated effort target united states powerful nucleartipped missile xie tao associate dean school english international studies beijing foreign studies university said chinese academics years past would typically express opinions whether china sharing plans washington behind closed doors get sorts people left right allowed make views public xie told reuters could interpret signal chinese government perhaps willing consider actually join contingency plans xie said sense must indepth discussion could potentially happen collapse internal chaos beijing washington respond trip china august joseph dunford chairman us joint chiefs staff attended chinese military drills china northern theater command city shenyang covers china border north korea analysts perceived china opening crack door preparations neither side showing cards public dunford said beijing visit despite washington urgings conditions set detailed conversation two militaries us military officials privately voiced frustration previous channels established direct military communications line essentially unstaffed chinese side dunford said creating roundtheclock responsive communications link could used crisis top priority military ties graphic north koreas missile nuclear tests click',\n",
       " 'japan acquire mediumrange airlaunched cruise missiles capable striking north korea controversial purchase become longestrange munitions country renounced right wage war defence minister itsunori onodera refer north korea announcing planned acquisition said new missiles would defence japan still relying united states strike enemy bases planning introduce jsm joint strike missile mounted f35a stealth fighter standoff missiles fired beyond range enemy threats onodera told news conference japan also looking mount lockheed martin corp extendedrange joint airtosurface standoff missile jassmer f15 fighters said jsm designed norway kongsberg defence aerospace range 500 km 310 miles jassmer hit targets 1000 km away purchase plan likely face criticism opposition parties parliament especially politicians wary watering japan renunciation right wage war enshrined postworld war two constitution growing threat posed north korean ballistic missiles spurred calls politicians including onodera robust military could deter north korea launching attack japan missile force limited antiaircraft antiship munitions ranges less 300 km 186 miles change suggests growing threat posed north korea given proponents strike capability upper hand military planning north korea recently testfired ballistic missiles japan last week tested new type intercontinental ballistic missile climbed altitude 4000 km splashing sea within japan exclusive economic zone',\n",
       " 'north korea latest missile test puts washington within range pyongyang still needs prove mastered critical missile technology reentry terminal stage guidance warhead activation south korea said friday south korea ministry defence said hwasong15 missile tested wednesday new type intercontinental ballistic missile icbm fly 13000 km 8080 miles placing washington within target range test prompted warning united states north korea leadership would utterly destroyed war break statement drew sharp criticism russia friday russian foreign minister sergei lavrov termed threat us ambassador united nations nikki haley bloodthirsty tirade said military action pyongyang would big mistake russian news agencies reported everything ensure use force happen problem decided using peaceful politicaldiplomatic means lavrov said separately russian lawmakers back visit pyongyang said north korea prepared disarm want nuclear war morally ready russia ria news agency reported pyongyang said wednesday missile test breakthrough leader kim jong un said country finally realized great historic completing state nuclear force north korea released video footage photographs hwasong15 us based experts said appeared north korea indeed capable delivering nuclear weapon anywhere united states could two three tests away combat ready yeo sukjoo south korea deputy minister defense policy told south korean parliament north korea still needed prove technologies like reentry terminal stage guidance warhead activation even south korea unification ministry said north korea likely pause missile tests number reasons including northern hemisphere winter season sudden changes situation external factors feel high chance north korea refrain engaging provocations said lee yoojin ministry deputy spokeswoman north korea known test fewer missiles fourth quarter year troops called help harvests cold temperatures strain country fuel supplies week missile launch first 75 days south korea defence minister song youngmoo told parliament expected north korean leader kim jong un use new year address declare north korea completed weapons program south korean us officials say hwasong 15 advanced missile north korea ever tested yeo told lawmakers first stage engine missile featured clustering two engines smaller hwasong14 icbm testlaunched july said hwasong15 two meters six feet longer hwasong14 said secondstage engine requires analysis yeo said us strategic assets would continue rotated near korean peninsula pyeongchang winter olympics south korea next february bid deter north korean provocations us president donald trump responded latest north korean test fresh round insults directed kim jong un called little rocket man sick puppy trump vowed respond tougher sanctions administration warned options table dealing north korea including military ones north korea stuck effort develop nucleartipped missile capable hitting united states spite years international sanctions condemnation']"
      ]
     },
     "execution_count": 57,
     "metadata": {},
     "output_type": "execute_result"
    }
   ],
   "source": [
    "neighbors_texts"
   ]
  },
  {
   "cell_type": "code",
   "execution_count": 58,
   "id": "b9837377-346b-477b-9fe5-6adfd4075602",
   "metadata": {},
   "outputs": [
    {
     "data": {
      "text/plain": [
       "array([5.96046448e-08, 2.81875128e+00, 2.90641833e+00, 2.91303749e+00,\n",
       "       3.02811230e+00, 3.10913668e+00, 3.12306978e+00, 3.13493599e+00,\n",
       "       3.14435170e+00, 3.15806090e+00, 3.16265868e+00, 3.19118407e+00,\n",
       "       3.20310609e+00, 3.20439443e+00, 3.21080607e+00, 3.23920879e+00,\n",
       "       3.25043470e+00, 3.25443259e+00, 3.27424921e+00, 3.27555018e+00])"
      ]
     },
     "execution_count": 58,
     "metadata": {},
     "output_type": "execute_result"
    }
   ],
   "source": [
    "neighbors_distances"
   ]
  }
 ],
 "metadata": {
  "kernelspec": {
   "display_name": "Python 3 (ipykernel)",
   "language": "python",
   "name": "python3"
  },
  "language_info": {
   "codemirror_mode": {
    "name": "ipython",
    "version": 3
   },
   "file_extension": ".py",
   "mimetype": "text/x-python",
   "name": "python",
   "nbconvert_exporter": "python",
   "pygments_lexer": "ipython3",
   "version": "3.11.7"
  }
 },
 "nbformat": 4,
 "nbformat_minor": 5
}
